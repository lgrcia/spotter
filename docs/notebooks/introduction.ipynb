{
    "cells": [
        {
            "cell_type": "markdown",
            "metadata": {},
            "source": [
                "# Introduction\n",
                "\n",
                "*spotter* is a package to compute forward models of fluxes and spectra time-series of non-uniform stars. \n",
                "\n",
                "Its main advantage over other frameworks is its capability to model small scale features thanks to the surface being subdivided into equal-area pixels. In order to do that, *spotter* exploits the  [HEALPix](https://HEALPix.jpl.nasa.gov/) subdivision scheme (through the python package [*healpy*](https://healpy.readthedocs.io/en/latest/)).\n",
                "\n",
                "Here is an introduction on how to define a stellar surface with spotter.\n"
            ]
        },
        {
            "cell_type": "markdown",
            "metadata": {},
            "source": [
                "## Star object\n",
                "\n",
                "We can define a [Star](spotter.star.Star) object that will contain the map of the star plus some of its parameters such as limb darkening"
            ]
        },
        {
            "cell_type": "code",
            "execution_count": null,
            "metadata": {},
            "outputs": [],
            "source": [
                "import matplotlib.pyplot as plt\n",
                "from spotter import Star, show\n",
                "\n",
                "star = Star.from_sides(16, u=(0.5, 0.2))\n",
                "\n",
                "plt.figure(figsize=(3, 3))\n",
                "show(star)"
            ]
        },
        {
            "cell_type": "markdown",
            "metadata": {},
            "source": [
                "As you can see, we defined the map using a number of sides, not pixels, which is how maps are defined in the HEALPix grid. Check out the [HEALPix documentation](https://healpix.jpl.nasa.gov/index.shtml) for more information."
            ]
        },
        {
            "cell_type": "markdown",
            "metadata": {},
            "source": [
                "## Map pixels values"
            ]
        },
        {
            "cell_type": "markdown",
            "metadata": {},
            "source": [
                "The pixels value of a star can be directly accessed with "
            ]
        },
        {
            "cell_type": "code",
            "execution_count": null,
            "metadata": {},
            "outputs": [],
            "source": [
                "star.y"
            ]
        },
        {
            "cell_type": "markdown",
            "metadata": {},
            "source": [
                "The shape of this array is  *(wavelength, pixels)*, with the first dimension being for the wavelength axis. Using JAX, here is how we would set a specific pixel `i` to a certain value."
            ]
        },
        {
            "cell_type": "code",
            "execution_count": null,
            "metadata": {},
            "outputs": [],
            "source": [
                "i = 1248\n",
                "\n",
                "new_y = star.y.at[0, i].set(0.0)\n",
                "star = star.set(y=new_y)\n",
                "\n",
                "plt.figure(figsize=(3, 3))\n",
                "show(star)"
            ]
        },
        {
            "cell_type": "markdown",
            "metadata": {},
            "source": [
                "## Spots"
            ]
        },
        {
            "cell_type": "markdown",
            "metadata": {},
            "source": [
                "As an example let's define a map with some spots on it. We will first define a surface with more pixels, a non-zero inclination and a rotation period"
            ]
        },
        {
            "cell_type": "code",
            "execution_count": 4,
            "metadata": {},
            "outputs": [],
            "source": [
                "import numpy as np\n",
                "\n",
                "star = star.from_sides(50, inc=1.3, u=(0.5, 0.2), period=1.0)"
            ]
        },
        {
            "cell_type": "markdown",
            "metadata": {},
            "source": [
                "Let's now add some noise, a spot and faculae"
            ]
        },
        {
            "cell_type": "code",
            "execution_count": null,
            "metadata": {},
            "outputs": [],
            "source": [
                "star = star.set(y=1 + 0.05 * np.random.rand(star.size))  # noise\n",
                "star = star.set(y=star.y - 0.6 * star.spot(0.3, 0.5, 0.15, 25))  # spot\n",
                "\n",
                "faculae = np.sum(\n",
                "    [\n",
                "        star.spot(0.3, 0.8, 0.05, 60) * 0.3 * star.y,\n",
                "        star.spot(-0.3, -0.5, 0.06, 60) * 0.35 * star.y,\n",
                "        star.spot(-0.5, -0.4, 0.03, 60) * 0.3 * star.y,\n",
                "    ],\n",
                "    0,\n",
                ")\n",
                "\n",
                "star = star.set(y=star.y + faculae)\n",
                "\n",
                "show(star)"
            ]
        },
        {
            "cell_type": "markdown",
            "metadata": {},
            "source": [
                "## Light curves\n",
                "\n",
                "Once a surface defined, spotter can be used to compute its light curve."
            ]
        },
        {
            "cell_type": "code",
            "execution_count": null,
            "metadata": {},
            "outputs": [],
            "source": [
                "import jax\n",
                "from spotter.light_curves import light_curve\n",
                "\n",
                "time = np.linspace(0, star.period, 200)\n",
                "\n",
                "plt.plot(time, light_curve(star, time)[0])\n",
                "plt.xlabel(\"phase\")\n",
                "_ = plt.ylabel(\"flux\")"
            ]
        },
        {
            "cell_type": "markdown",
            "metadata": {},
            "source": [
                "```{note}\n",
                "All functions in *spotter* are carefully implemented with [JAX](https://jax.readthedocs.io/en/latest/quickstart.html), meaning that they can be vectorized and run on GPUs. For example this could be useful to evaluate the flux of a very large number of maps.\n",
                "```"
            ]
        },
        {
            "cell_type": "markdown",
            "metadata": {},
            "source": [
                "spotter can also be used to compute the light curve of a transited star"
            ]
        },
        {
            "cell_type": "code",
            "execution_count": null,
            "metadata": {},
            "outputs": [],
            "source": [
                "from spotter.star import transited_star\n",
                "from spotter.light_curves import transit_light_curve\n",
                "\n",
                "# impact parameter\n",
                "b = np.linspace(-2, 2, 100)\n",
                "\n",
                "flux = jax.vmap(lambda b: transit_light_curve(star, y=b, r=0.3)[0])(b)\n",
                "\n",
                "plt.figure(figsize=(7, 3))\n",
                "plt.subplot(121)\n",
                "plt.plot(b, flux)\n",
                "plt.xlabel(\"impact parameter\")\n",
                "plt.ylabel(\"flux\")\n",
                "\n",
                "plt.subplot(122)\n",
                "show(transited_star(star, y=0.3, r=0.2))"
            ]
        },
        {
            "cell_type": "markdown",
            "metadata": {},
            "source": [
                "```{important}\n",
                "As you can see the transit light curve model contains errors due to the pixelization of the star. This is why *spotter* is considered an **approximate** model only. Check out [this page](./precision.ipynb) for more details about *spotter*'s precision.\n",
                "```"
            ]
        },
        {
            "cell_type": "markdown",
            "metadata": {},
            "source": [
                "## JAX and *spotter* core functions\n",
                "\n",
                "Using spotter core functions directly, other observables can be computed as well. Here are some examples\n",
                "\n",
                "### Ensemble of rotation light curves"
            ]
        },
        {
            "cell_type": "code",
            "execution_count": 14,
            "metadata": {},
            "outputs": [],
            "source": [
                "from spotter import distributions\n",
                "from spotter.core import amplitude, spot\n",
                "\n",
                "# number of healpix sides\n",
                "N = 16\n",
                "\n",
                "# generate maps with a single random spot\n",
                "n_spots = 500\n",
                "latlon = distributions.uniform(n_spots)\n",
                "radii = np.random.uniform(0.01, 0.9, n_spots)\n",
                "contrast = np.random.uniform(0.01, 0.9, n_spots)\n",
                "ys = 1 - jax.vmap(jax.jit(spot, static_argnums=(0,)), in_axes=(None, 0, 0, 0))(\n",
                "    N, *latlon, radii\n",
                ")\n",
                "\n",
                "amplitude = jax.jit(amplitude(N, u=star.u[0]))\n",
                "values = amplitude(ys)"
            ]
        },
        {
            "cell_type": "markdown",
            "metadata": {},
            "source": [
                "Here we evaluated the amplitude of the rotational light curves of 500 maps, each containing a single random spot. Let's estimate the processing time of this computation"
            ]
        },
        {
            "cell_type": "code",
            "execution_count": null,
            "metadata": {},
            "outputs": [],
            "source": [
                "%timeit amplitude(ys)"
            ]
        },
        {
            "cell_type": "markdown",
            "metadata": {},
            "source": [
                "i.e. about tens of $\\mu s$ per unique map!"
            ]
        },
        {
            "cell_type": "markdown",
            "metadata": {},
            "source": [
                "```{note}\n",
                "Notice here how we didn't use the [Star](spotter.star.Star) object at all. Sometimes, especially when dealing with a large number of stars, *spotter*'s objects are not as optimal as working directly with the stellar maps, especially when using JAX transforms.\n",
                "```"
            ]
        },
        {
            "cell_type": "markdown",
            "metadata": {},
            "source": [
                "### Stellar contamination estimates\n",
                "\n",
                "Other features of *spotter* are useful to compute the spot coverage, either of the map itself"
            ]
        },
        {
            "cell_type": "code",
            "execution_count": null,
            "metadata": {},
            "outputs": [],
            "source": [
                "# trivial\n",
                "spotted = star.y < 1.0\n",
                "coverage = np.mean(spotted)\n",
                "\n",
                "print(f\"coverage: {coverage * 100:.2f}%\")"
            ]
        },
        {
            "cell_type": "markdown",
            "metadata": {},
            "source": [
                "or within a specific transit chord"
            ]
        },
        {
            "cell_type": "code",
            "execution_count": null,
            "metadata": {},
            "outputs": [],
            "source": [
                "from spotter.core import mask_projected_limb, transit_chord, vec\n",
                "\n",
                "transit = transit_chord(star.N, 0.0, 0.2, star.inc)\n",
                "\n",
                "mask, area, _ = mask_projected_limb(vec(star.N), u=star.u[0], inc=star.inc)\n",
                "\n",
                "spotted = (star.y[0] < 1.0) * mask\n",
                "transited = transit * mask > 0.0\n",
                "\n",
                "# let's show the chord\n",
                "show(star * transited, vmin=0.0, vmax=1.5)\n",
                "\n",
                "# covering fraction in the chord\n",
                "chord_coverage = (spotted * transited * area).sum() / (transited * area).sum()\n",
                "print(f\"chord coverage: {chord_coverage * 100:.2f}%\")"
            ]
        },
        {
            "cell_type": "markdown",
            "metadata": {},
            "source": [
                "which is useful to compute transmission spectroscopy stellar contamination effects."
            ]
        }
    ],
    "metadata": {
        "kernelspec": {
            "display_name": ".venv",
            "language": "python",
            "name": "python3"
        },
        "language_info": {
            "codemirror_mode": {
                "name": "ipython",
                "version": 3
            },
            "file_extension": ".py",
            "mimetype": "text/x-python",
            "name": "python",
            "nbconvert_exporter": "python",
            "pygments_lexer": "ipython3",
            "version": "3.11.11"
        }
    },
    "nbformat": 4,
    "nbformat_minor": 2
}
