{
    "cells": [
        {
            "cell_type": "markdown",
            "metadata": {},
            "source": [
                "# Map rotation\n",
                "\n",
                "The surface of the star is based on an [HEALPix](https://healpix.jpl.nasa.gov/) map, that we need to rotate in order to simulate the star's rotation"
            ]
        },
        {
            "cell_type": "code",
            "execution_count": null,
            "metadata": {},
            "outputs": [],
            "source": [
                "import jax\n",
                "import healpy as hp\n",
                "import numpy as np\n",
                "import matplotlib.pyplot as plt\n",
                "from spotter.core import spot\n",
                "from spotter.distributions import uniform\n",
                "\n",
                "N = 2**6\n",
                "u = (0.5, 0.2)\n",
                "np.random.seed(42)\n",
                "radius = np.random.uniform(0.01, 0.2, size=30)\n",
                "y = (\n",
                "    1\n",
                "    - (\n",
                "        np.count_nonzero(\n",
                "            jax.vmap(spot, in_axes=(None, 0, 0, 0))(N, *uniform(30), radius), 0\n",
                "        )\n",
                "        > 0\n",
                "    )\n",
                "    * 0.3\n",
                ")\n",
                "\n",
                "# limb darkening is only applied on disk so no point\n",
                "# to show it here in this Mollewide projection\n",
                "hp.mollview(y, cmap=\"magma\", min=0, max=1)"
            ]
        },
        {
            "cell_type": "markdown",
            "metadata": {},
            "source": [
                "And represented as a `Star`"
            ]
        },
        {
            "cell_type": "code",
            "execution_count": null,
            "metadata": {},
            "outputs": [],
            "source": [
                "from spotter import Star, show\n",
                "\n",
                "star = Star(y, u=u, period=2 * np.pi, inc=0.8)\n",
                "show(star)"
            ]
        },
        {
            "cell_type": "markdown",
            "metadata": {},
            "source": [
                "One way to perform the rotation is to use the `Rotation` object (and to project the result on a disk before multiplying it by the limb darkening law)"
            ]
        },
        {
            "cell_type": "code",
            "execution_count": null,
            "metadata": {},
            "outputs": [],
            "source": [
                "rotated_pixels = hp.Rotator(rot=np.pi / 4, deg=False).rotate_map_pixel(y)"
            ]
        },
        {
            "cell_type": "markdown",
            "metadata": {},
            "source": [
                "But if we have to do that for say 1000 phases to compute the rotational light curve of the star (the disk-integrated flux) it can be very slow."
            ]
        },
        {
            "cell_type": "code",
            "execution_count": null,
            "metadata": {},
            "outputs": [],
            "source": [
                "from time import time\n",
                "\n",
                "phase = np.linspace(0, 2 * np.pi, 1000)\n",
                "\n",
                "t0 = time()\n",
                "for i in phase:\n",
                "    rotated_pixels = hp.Rotator(rot=i, deg=False).rotate_map_pixel(y)\n",
                "    flux = np.sum(rotated_pixels)\n",
                "print(f\"{time() - t0:.5f} s\")"
            ]
        },
        {
            "cell_type": "markdown",
            "metadata": {},
            "source": [
                "So the idea is, instead of rotating the map, to rotate the point of view within the healpix sphere, compute a mask of the stellar disk being rotated, and compute the flux. This is illustrated below and implemented in the `Star` object."
            ]
        },
        {
            "cell_type": "code",
            "execution_count": null,
            "metadata": {},
            "outputs": [],
            "source": [
                "from spotter.light_curves import design_matrix\n",
                "\n",
                "few_phases = np.linspace(0, np.pi, 4)\n",
                "X = design_matrix(star, few_phases)"
            ]
        },
        {
            "cell_type": "code",
            "execution_count": null,
            "metadata": {},
            "outputs": [],
            "source": [
                "import jax\n",
                "\n",
                "fig, axes = plt.subplots(4, 2, figsize=(8, 10))\n",
                "\n",
                "for i, m in enumerate(X):\n",
                "    ax = axes[i, 0]\n",
                "    img = hp.mollview(m * star.y, return_projected_map=True)\n",
                "    plt.close()\n",
                "    ax.imshow(img, cmap=\"magma\", origin=\"lower\")\n",
                "    ax.set_title(f\"phase = {few_phases[i]/2/np.pi:.1f}  x 2π\")\n",
                "    ax.axis(\"off\")\n",
                "\n",
                "    ax = axes[i, 1]\n",
                "    show(star, few_phases[i], ax=ax)\n",
                "\n",
                "plt.tight_layout()"
            ]
        },
        {
            "cell_type": "markdown",
            "metadata": {},
            "source": [
                "```{note}\n",
                "The smooth edges around the spots of the projected disk (right plots) are due to interpolation when applying the healpy `Rotator` object. This is only present when the map is shown with `Star.show` as the `Rotator` object is not the way the flux is computed.\n",
                "```"
            ]
        },
        {
            "cell_type": "markdown",
            "metadata": {},
            "source": [
                "Let's make a small benchmark using the map above"
            ]
        },
        {
            "cell_type": "code",
            "execution_count": null,
            "metadata": {},
            "outputs": [],
            "source": [
                "from time import time\n",
                "from spotter.light_curves import light_curve\n",
                "\n",
                "# compilation\n",
                "f = jax.jit(light_curve)\n",
                "f(star, phase).block_until_ready()\n",
                "\n",
                "t0 = time()\n",
                "f(star, phase).block_until_ready()\n",
                "print(f\"{time() - t0:.5f} s\")"
            ]
        },
        {
            "cell_type": "markdown",
            "metadata": {},
            "source": [
                "This is way faster than rotating the map with `healpy`."
            ]
        }
    ],
    "metadata": {
        "kernelspec": {
            "display_name": "spotter",
            "language": "python",
            "name": "python3"
        },
        "language_info": {
            "codemirror_mode": {
                "name": "ipython",
                "version": 3
            },
            "file_extension": ".py",
            "mimetype": "text/x-python",
            "name": "python",
            "nbconvert_exporter": "python",
            "pygments_lexer": "ipython3",
            "version": "3.10.14"
        }
    },
    "nbformat": 4,
    "nbformat_minor": 2
}
